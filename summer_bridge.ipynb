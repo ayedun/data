{
 "cells": [
  {
   "cell_type": "code",
   "execution_count": 2,
   "id": "9061a2f9-37d6-40aa-adad-a9d1c077dfa1",
   "metadata": {},
   "outputs": [
    {
     "data": {
      "text/plain": [
       "10"
      ]
     },
     "execution_count": 2,
     "metadata": {},
     "output_type": "execute_result"
    }
   ],
   "source": [
    "3 + 7"
   ]
  },
  {
   "cell_type": "code",
   "execution_count": 3,
   "id": "7fae025e-965d-46ae-a4a1-7b58df116f99",
   "metadata": {},
   "outputs": [
    {
     "name": "stdout",
     "output_type": "stream",
     "text": [
      "Hi\n"
     ]
    }
   ],
   "source": [
    "print(\"Hi\")"
   ]
  },
  {
   "cell_type": "code",
   "execution_count": 4,
   "id": "3fcbe5ef-1d25-411d-b29d-062de6869c8b",
   "metadata": {},
   "outputs": [],
   "source": [
    "name =\"qqq\"\n",
    "age= 10"
   ]
  },
  {
   "cell_type": "code",
   "execution_count": 5,
   "id": "a668bf59-10cd-48bc-8985-41c25c788427",
   "metadata": {},
   "outputs": [
    {
     "name": "stdout",
     "output_type": "stream",
     "text": [
      "qqq is 10 years old\n"
     ]
    }
   ],
   "source": [
    "print(name,\"is\",age,\"years old\")"
   ]
  },
  {
   "cell_type": "markdown",
   "id": "abda5bc3-77b0-4160-ae1c-de8e281de543",
   "metadata": {},
   "source": []
  },
  {
   "cell_type": "code",
   "execution_count": 7,
   "id": "82ed499e-8cdb-473f-9a84-e61e9064764f",
   "metadata": {},
   "outputs": [
    {
     "data": {
      "text/plain": [
       "'qqq'"
      ]
     },
     "execution_count": 7,
     "metadata": {},
     "output_type": "execute_result"
    }
   ],
   "source": [
    "name"
   ]
  },
  {
   "cell_type": "markdown",
   "id": "92c7415d-eba0-4c88-98c2-f05cf81e4d56",
   "metadata": {},
   "source": [
    "hi"
   ]
  },
  {
   "cell_type": "markdown",
   "id": "2b9e09ea-c41c-4f0e-95a8-c00279110c33",
   "metadata": {},
   "source": [
    "First section of the day"
   ]
  },
  {
   "cell_type": "code",
   "execution_count": 10,
   "id": "b2d031b4-555f-4149-bd2e-5ee69a826a2f",
   "metadata": {},
   "outputs": [],
   "source": [
    "#First section of the day"
   ]
  },
  {
   "cell_type": "markdown",
   "id": "f45113da-9ad3-4eb7-b9b2-d086edbfdb06",
   "metadata": {},
   "source": [
    "#First section of the day"
   ]
  },
  {
   "cell_type": "code",
   "execution_count": 12,
   "id": "11330b78-0931-4918-bfa7-987101ef676e",
   "metadata": {},
   "outputs": [
    {
     "name": "stdout",
     "output_type": "stream",
     "text": [
      "10\n",
      "13\n"
     ]
    }
   ],
   "source": [
    "#Variables can be used in calculations\n",
    "print(age)\n",
    "age = age + 3\n",
    "print(age)"
   ]
  },
  {
   "cell_type": "code",
   "execution_count": 13,
   "id": "6ba6f5a6-4b2a-4389-9688-3fa447c76efc",
   "metadata": {},
   "outputs": [
    {
     "name": "stdout",
     "output_type": "stream",
     "text": [
      "2\n",
      "5\n"
     ]
    }
   ],
   "source": [
    "#order of operations matters\n",
    "first = 1\n",
    "second = first * 5\n",
    "first = 2\n",
    "print(first)\n",
    "print(second)"
   ]
  },
  {
   "cell_type": "code",
   "execution_count": 14,
   "id": "ab8ae104-1fc3-4970-b8c9-0bd34e448e05",
   "metadata": {},
   "outputs": [
    {
     "name": "stdout",
     "output_type": "stream",
     "text": [
      "qqq13\n"
     ]
    }
   ],
   "source": [
    "name_and_age= name +str(age)\n",
    "print(name_and_age)"
   ]
  },
  {
   "cell_type": "code",
   "execution_count": 15,
   "id": "c99c424f-dde9-4fd7-8e9c-75ac200542e8",
   "metadata": {},
   "outputs": [
    {
     "name": "stdout",
     "output_type": "stream",
     "text": [
      "3\n"
     ]
    }
   ],
   "source": [
    "print(len(name))\n"
   ]
  },
  {
   "cell_type": "code",
   "execution_count": 16,
   "id": "9c4571bf-8cee-41ae-81f9-11bf8d9c2307",
   "metadata": {},
   "outputs": [
    {
     "name": "stdout",
     "output_type": "stream",
     "text": [
      "2\n",
      "1.6666666666666667\n",
      "1\n"
     ]
    }
   ],
   "source": [
    "print(8 //3)\n",
    "print(5 /3)\n",
    "print(7 %3)\n"
   ]
  },
  {
   "cell_type": "code",
   "execution_count": 17,
   "id": "650d012c-8a34-43a4-af98-d3310d38febb",
   "metadata": {},
   "outputs": [],
   "source": [
    "import math"
   ]
  },
  {
   "cell_type": "code",
   "execution_count": 18,
   "id": "c8ac0f1a-f6d5-4749-a360-803bae574c17",
   "metadata": {},
   "outputs": [
    {
     "name": "stdout",
     "output_type": "stream",
     "text": [
      "3.141592653589793\n"
     ]
    }
   ],
   "source": [
    "print(math.pi)"
   ]
  },
  {
   "cell_type": "code",
   "execution_count": 19,
   "id": "2d52e016-fb4f-40cc-b630-90e8c8f18abb",
   "metadata": {},
   "outputs": [
    {
     "name": "stdout",
     "output_type": "stream",
     "text": [
      "The Zen of Python, by Tim Peters\n",
      "\n",
      "Beautiful is better than ugly.\n",
      "Explicit is better than implicit.\n",
      "Simple is better than complex.\n",
      "Complex is better than complicated.\n",
      "Flat is better than nested.\n",
      "Sparse is better than dense.\n",
      "Readability counts.\n",
      "Special cases aren't special enough to break the rules.\n",
      "Although practicality beats purity.\n",
      "Errors should never pass silently.\n",
      "Unless explicitly silenced.\n",
      "In the face of ambiguity, refuse the temptation to guess.\n",
      "There should be one-- and preferably only one --obvious way to do it.\n",
      "Although that way may not be obvious at first unless you're Dutch.\n",
      "Now is better than never.\n",
      "Although never is often better than *right* now.\n",
      "If the implementation is hard to explain, it's a bad idea.\n",
      "If the implementation is easy to explain, it may be a good idea.\n",
      "Namespaces are one honking great idea -- let's do more of those!\n"
     ]
    }
   ],
   "source": [
    "import this"
   ]
  },
  {
   "cell_type": "code",
   "execution_count": 20,
   "id": "cb9971a1-758b-4016-98d5-42aa7586c374",
   "metadata": {},
   "outputs": [
    {
     "name": "stdout",
     "output_type": "stream",
     "text": [
      "['apple', 'banana', 'cherry', 'date', 'elderberry', 'fig']\n",
      "6\n"
     ]
    }
   ],
   "source": [
    "fruits = [\"apple\", \"banana\", \"cherry\", \"date\", \"elderberry\", \"fig\"]\n",
    "print(fruits)\n",
    "print(len(fruits))"
   ]
  },
  {
   "cell_type": "code",
   "execution_count": 21,
   "id": "e5872671-71e6-4d01-937c-da18df1c2ddd",
   "metadata": {},
   "outputs": [
    {
     "name": "stdout",
     "output_type": "stream",
     "text": [
      "6\n"
     ]
    }
   ],
   "source": [
    "print(len(fruits))"
   ]
  },
  {
   "cell_type": "code",
   "execution_count": 22,
   "id": "54d4a66b-4eec-4285-8d3a-7b904c7c30ba",
   "metadata": {},
   "outputs": [
    {
     "name": "stdout",
     "output_type": "stream",
     "text": [
      "date\n"
     ]
    }
   ],
   "source": [
    "print(fruits[3])"
   ]
  },
  {
   "cell_type": "code",
   "execution_count": 23,
   "id": "90012e3d-8a14-4816-ad12-9dc7987ca304",
   "metadata": {},
   "outputs": [
    {
     "name": "stdout",
     "output_type": "stream",
     "text": [
      "2.6\n"
     ]
    }
   ],
   "source": [
    "radiance = 1.0\n",
    "radiance = max(2.1, 2.0 + min(radiance, 1.1 * radiance - 0.5))\n",
    "print(radiance)"
   ]
  },
  {
   "cell_type": "code",
   "execution_count": 24,
   "id": "3893991c-8ada-421c-a82f-67b7a0b1eaed",
   "metadata": {},
   "outputs": [
    {
     "name": "stdout",
     "output_type": "stream",
     "text": [
      "['apple', 'elderberry']\n"
     ]
    }
   ],
   "source": [
    "print(fruits[::4])"
   ]
  },
  {
   "cell_type": "code",
   "execution_count": 25,
   "id": "cbd1323d-1d92-4329-a713-b05f7491761f",
   "metadata": {},
   "outputs": [
    {
     "name": "stdout",
     "output_type": "stream",
     "text": [
      "['apple', 'date']\n"
     ]
    }
   ],
   "source": [
    "print(fruits[::3])"
   ]
  },
  {
   "cell_type": "code",
   "execution_count": 26,
   "id": "962d9b91-aef6-4aed-a332-9f32a1f3c68a",
   "metadata": {},
   "outputs": [
    {
     "data": {
      "text/plain": [
       "True"
      ]
     },
     "execution_count": 26,
     "metadata": {},
     "output_type": "execute_result"
    }
   ],
   "source": [
    "len(fruits[4:5]) == 1\n"
   ]
  },
  {
   "cell_type": "code",
   "execution_count": 27,
   "id": "714c6d4b-9233-4100-af92-e283e464b34a",
   "metadata": {},
   "outputs": [
    {
     "name": "stdout",
     "output_type": "stream",
     "text": [
      "fig\n",
      "['date', 'elderberry', 'fig']\n"
     ]
    }
   ],
   "source": [
    "print(fruits[-1])\n",
    "#error print(fruits[20])\n",
    "print(fruits[-3:])"
   ]
  },
  {
   "cell_type": "code",
   "execution_count": 28,
   "id": "a523f5b5-4779-4034-acd8-9a4dff579c5a",
   "metadata": {},
   "outputs": [
    {
     "name": "stdout",
     "output_type": "stream",
     "text": [
      "['apple', 'banana', 'cherry', 'date', 'elderberry', 'fig']\n"
     ]
    }
   ],
   "source": [
    "print(fruits)"
   ]
  },
  {
   "cell_type": "code",
   "execution_count": 29,
   "id": "1688ae45-a119-4741-9d91-acd2c01cd4e4",
   "metadata": {},
   "outputs": [],
   "source": [
    "more_fruits = [\"honeydew\", \"imbe\", \"jackfruit\"]"
   ]
  },
  {
   "cell_type": "code",
   "execution_count": 30,
   "id": "655f5e4e-cc39-4651-ab79-048b634f7480",
   "metadata": {},
   "outputs": [
    {
     "name": "stdout",
     "output_type": "stream",
     "text": [
      "['apple', 'banana', 'cherry', 'date', 'elderberry', 'fig']\n",
      "['honeydew', 'imbe', 'jackfruit']\n"
     ]
    }
   ],
   "source": [
    "print(fruits)\n",
    "print(more_fruits)"
   ]
  },
  {
   "cell_type": "code",
   "execution_count": null,
   "id": "80112806-02e7-4158-bc31-a2364b88ecd3",
   "metadata": {},
   "outputs": [],
   "source": []
  },
  {
   "cell_type": "code",
   "execution_count": 31,
   "id": "823ceea9-8712-435a-80e2-32039a22ef58",
   "metadata": {},
   "outputs": [
    {
     "name": "stdout",
     "output_type": "stream",
     "text": [
      "['apple', 'banana', 'cherry', 'date', 'elderberry', 'fig', 'soda']\n"
     ]
    }
   ],
   "source": [
    "fruits.append(\"soda\")\n",
    "print(fruits)"
   ]
  },
  {
   "cell_type": "code",
   "execution_count": 32,
   "id": "075b3a09-f57b-468f-8f8e-2782926bac07",
   "metadata": {},
   "outputs": [
    {
     "name": "stdout",
     "output_type": "stream",
     "text": [
      "['apple', 'banana', 'cherry', 'date', 'elderberry', 'fig', 'soda']\n"
     ]
    }
   ],
   "source": [
    "print(fruits)"
   ]
  },
  {
   "cell_type": "code",
   "execution_count": 33,
   "id": "558ed2c6-457a-4e89-95ab-d4104a193b5b",
   "metadata": {},
   "outputs": [],
   "source": [
    "fruits = [\"apple\", \"banana\", \"cherry\", \"date\", \"elderberry\", \"fig\"]\n"
   ]
  },
  {
   "cell_type": "code",
   "execution_count": 34,
   "id": "f91e7e7f-fe89-4f47-9025-d76c770740c9",
   "metadata": {},
   "outputs": [],
   "source": [
    "more_fruits = [\"honeydew\", \"imbe\", \"jackfruit\"]"
   ]
  },
  {
   "cell_type": "code",
   "execution_count": 35,
   "id": "9ced2cf7-c0ce-442c-9573-0a9b0a9112f8",
   "metadata": {},
   "outputs": [
    {
     "name": "stdout",
     "output_type": "stream",
     "text": [
      "['apple', 'banana', 'cherry', 'date', 'elderberry', 'fig', 'honeydew', 'imbe', 'jackfruit']\n"
     ]
    }
   ],
   "source": [
    "fruits.extend(more_fruits)\n",
    "print(fruits)"
   ]
  },
  {
   "cell_type": "raw",
   "id": "753a85f1-b0fe-434e-8223-070b0b93583f",
   "metadata": {},
   "source": []
  }
 ],
 "metadata": {
  "kernelspec": {
   "display_name": "Python 3 (ipykernel)",
   "language": "python",
   "name": "python3"
  },
  "language_info": {
   "codemirror_mode": {
    "name": "ipython",
    "version": 3
   },
   "file_extension": ".py",
   "mimetype": "text/x-python",
   "name": "python",
   "nbconvert_exporter": "python",
   "pygments_lexer": "ipython3",
   "version": "3.12.4"
  }
 },
 "nbformat": 4,
 "nbformat_minor": 5
}
