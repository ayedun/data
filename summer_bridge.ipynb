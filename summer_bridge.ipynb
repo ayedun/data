{
 "cells": [
  {
   "cell_type": "code",
   "execution_count": null,
   "id": "9061a2f9-37d6-40aa-adad-a9d1c077dfa1",
   "metadata": {},
   "outputs": [],
   "source": [
    "3 + 7"
   ]
  },
  {
   "cell_type": "code",
   "execution_count": null,
   "id": "7fae025e-965d-46ae-a4a1-7b58df116f99",
   "metadata": {},
   "outputs": [],
   "source": [
    "print(\"Hi\")"
   ]
  },
  {
   "cell_type": "code",
   "execution_count": null,
   "id": "3fcbe5ef-1d25-411d-b29d-062de6869c8b",
   "metadata": {},
   "outputs": [],
   "source": [
    "name =\"qqq\"\n",
    "age= 10"
   ]
  },
  {
   "cell_type": "code",
   "execution_count": null,
   "id": "a668bf59-10cd-48bc-8985-41c25c788427",
   "metadata": {},
   "outputs": [],
   "source": [
    "print(name,\"is\",age,\"years old\")"
   ]
  },
  {
   "cell_type": "markdown",
   "id": "abda5bc3-77b0-4160-ae1c-de8e281de543",
   "metadata": {},
   "source": []
  },
  {
   "cell_type": "code",
   "execution_count": null,
   "id": "82ed499e-8cdb-473f-9a84-e61e9064764f",
   "metadata": {},
   "outputs": [],
   "source": [
    "name"
   ]
  },
  {
   "cell_type": "markdown",
   "id": "92c7415d-eba0-4c88-98c2-f05cf81e4d56",
   "metadata": {},
   "source": [
    "hi"
   ]
  },
  {
   "cell_type": "markdown",
   "id": "2b9e09ea-c41c-4f0e-95a8-c00279110c33",
   "metadata": {},
   "source": [
    "First section of the day"
   ]
  },
  {
   "cell_type": "code",
   "execution_count": null,
   "id": "b2d031b4-555f-4149-bd2e-5ee69a826a2f",
   "metadata": {},
   "outputs": [],
   "source": [
    "#First section of the day"
   ]
  },
  {
   "cell_type": "markdown",
   "id": "f45113da-9ad3-4eb7-b9b2-d086edbfdb06",
   "metadata": {},
   "source": [
    "#First section of the day"
   ]
  },
  {
   "cell_type": "code",
   "execution_count": null,
   "id": "11330b78-0931-4918-bfa7-987101ef676e",
   "metadata": {},
   "outputs": [],
   "source": [
    "#Variables can be used in calculations\n",
    "print(age)\n",
    "age = age + 3\n",
    "print(age)"
   ]
  },
  {
   "cell_type": "code",
   "execution_count": null,
   "id": "6ba6f5a6-4b2a-4389-9688-3fa447c76efc",
   "metadata": {},
   "outputs": [],
   "source": [
    "#order of operations matters\n",
    "first = 1\n",
    "second = first * 5\n",
    "first = 2\n",
    "print(first)\n",
    "print(second)"
   ]
  },
  {
   "cell_type": "code",
   "execution_count": null,
   "id": "ab8ae104-1fc3-4970-b8c9-0bd34e448e05",
   "metadata": {},
   "outputs": [],
   "source": [
    "name_and_age= name +str(age)\n",
    "print(name_and_age)"
   ]
  },
  {
   "cell_type": "code",
   "execution_count": null,
   "id": "c99c424f-dde9-4fd7-8e9c-75ac200542e8",
   "metadata": {},
   "outputs": [],
   "source": [
    "print(len(name))\n"
   ]
  },
  {
   "cell_type": "code",
   "execution_count": null,
   "id": "9c4571bf-8cee-41ae-81f9-11bf8d9c2307",
   "metadata": {},
   "outputs": [],
   "source": [
    "print(8 //3)\n",
    "print(5 /3)\n",
    "print(7 %3)\n"
   ]
  },
  {
   "cell_type": "code",
   "execution_count": null,
   "id": "650d012c-8a34-43a4-af98-d3310d38febb",
   "metadata": {},
   "outputs": [],
   "source": [
    "import math"
   ]
  },
  {
   "cell_type": "code",
   "execution_count": null,
   "id": "c8ac0f1a-f6d5-4749-a360-803bae574c17",
   "metadata": {},
   "outputs": [],
   "source": [
    "print(math.pi)"
   ]
  },
  {
   "cell_type": "code",
   "execution_count": null,
   "id": "2d52e016-fb4f-40cc-b630-90e8c8f18abb",
   "metadata": {},
   "outputs": [],
   "source": [
    "import this"
   ]
  },
  {
   "cell_type": "code",
   "execution_count": null,
   "id": "cb9971a1-758b-4016-98d5-42aa7586c374",
   "metadata": {},
   "outputs": [],
   "source": [
    "fruits = [\"apple\", \"banana\", \"cherry\", \"date\", \"elderberry\", \"fig\"]\n",
    "print(fruits)\n",
    "print(len(fruits))"
   ]
  },
  {
   "cell_type": "code",
   "execution_count": null,
   "id": "e5872671-71e6-4d01-937c-da18df1c2ddd",
   "metadata": {},
   "outputs": [],
   "source": [
    "print(len(fruits))"
   ]
  },
  {
   "cell_type": "code",
   "execution_count": null,
   "id": "54d4a66b-4eec-4285-8d3a-7b904c7c30ba",
   "metadata": {},
   "outputs": [],
   "source": [
    "print(fruits[3])"
   ]
  },
  {
   "cell_type": "code",
   "execution_count": null,
   "id": "90012e3d-8a14-4816-ad12-9dc7987ca304",
   "metadata": {},
   "outputs": [],
   "source": [
    "radiance = 1.0\n",
    "radiance = max(2.1, 2.0 + min(radiance, 1.1 * radiance - 0.5))\n",
    "print(radiance)"
   ]
  },
  {
   "cell_type": "code",
   "execution_count": null,
   "id": "3893991c-8ada-421c-a82f-67b7a0b1eaed",
   "metadata": {},
   "outputs": [],
   "source": [
    "print(fruits[::4])"
   ]
  },
  {
   "cell_type": "code",
   "execution_count": null,
   "id": "cbd1323d-1d92-4329-a713-b05f7491761f",
   "metadata": {},
   "outputs": [],
   "source": [
    "print(fruits[::3])"
   ]
  },
  {
   "cell_type": "code",
   "execution_count": null,
   "id": "962d9b91-aef6-4aed-a332-9f32a1f3c68a",
   "metadata": {},
   "outputs": [],
   "source": [
    "len(fruits[4:5]) == 1\n"
   ]
  },
  {
   "cell_type": "code",
   "execution_count": null,
   "id": "714c6d4b-9233-4100-af92-e283e464b34a",
   "metadata": {},
   "outputs": [],
   "source": [
    "print(fruits[-1])\n",
    "#error print(fruits[20])\n",
    "print(fruits[-3:])"
   ]
  },
  {
   "cell_type": "code",
   "execution_count": null,
   "id": "a523f5b5-4779-4034-acd8-9a4dff579c5a",
   "metadata": {},
   "outputs": [],
   "source": [
    "print(fruits)"
   ]
  },
  {
   "cell_type": "code",
   "execution_count": null,
   "id": "1688ae45-a119-4741-9d91-acd2c01cd4e4",
   "metadata": {},
   "outputs": [],
   "source": [
    "more_fruits = [\"honeydew\", \"imbe\", \"jackfruit\"]"
   ]
  },
  {
   "cell_type": "code",
   "execution_count": null,
   "id": "655f5e4e-cc39-4651-ab79-048b634f7480",
   "metadata": {},
   "outputs": [],
   "source": [
    "print(fruits)\n",
    "print(more_fruits)"
   ]
  },
  {
   "cell_type": "code",
   "execution_count": null,
   "id": "80112806-02e7-4158-bc31-a2364b88ecd3",
   "metadata": {},
   "outputs": [],
   "source": []
  },
  {
   "cell_type": "code",
   "execution_count": null,
   "id": "823ceea9-8712-435a-80e2-32039a22ef58",
   "metadata": {},
   "outputs": [],
   "source": [
    "fruits.append(\"soda\")\n",
    "print(fruits)"
   ]
  },
  {
   "cell_type": "code",
   "execution_count": null,
   "id": "075b3a09-f57b-468f-8f8e-2782926bac07",
   "metadata": {},
   "outputs": [],
   "source": [
    "print(fruits)"
   ]
  },
  {
   "cell_type": "code",
   "execution_count": null,
   "id": "558ed2c6-457a-4e89-95ab-d4104a193b5b",
   "metadata": {},
   "outputs": [],
   "source": [
    "fruits = [\"apple\", \"banana\", \"cherry\", \"date\", \"elderberry\", \"fig\"]\n"
   ]
  },
  {
   "cell_type": "code",
   "execution_count": null,
   "id": "f91e7e7f-fe89-4f47-9025-d76c770740c9",
   "metadata": {},
   "outputs": [],
   "source": [
    "more_fruits = [\"honeydew\", \"imbe\", \"jackfruit\"]"
   ]
  },
  {
   "cell_type": "code",
   "execution_count": null,
   "id": "9ced2cf7-c0ce-442c-9573-0a9b0a9112f8",
   "metadata": {},
   "outputs": [],
   "source": [
    "fruits.extend(more_fruits)\n",
    "print(fruits)"
   ]
  },
  {
   "cell_type": "code",
   "execution_count": null,
   "id": "59ffd169-b9a9-4cf9-aa85-8bb35cc1d1e8",
   "metadata": {},
   "outputs": [],
   "source": [
    "print(fruits)\n",
    "f = fruits.pop()\n",
    "\n",
    "print('Last fruit in list:', f)\n",
    "print(fruits)"
   ]
  },
  {
   "cell_type": "code",
   "execution_count": null,
   "id": "1e9e870a-0ec3-4a0e-9864-ad0308f95ca2",
   "metadata": {},
   "outputs": [],
   "source": [
    "list_a=[\"a\",\"b\",\"c\"]\n",
    "list_b=[\"d\", \"e\", \"f\"]\n",
    "print(list_a)\n",
    "print(list_b)\n",
    "list_a.append(list_b)\n",
    "print(\"appended: \",list_a)"
   ]
  },
  {
   "cell_type": "code",
   "execution_count": null,
   "id": "d7dd48d5-5a5b-4aa0-85ec-07bb9ceb0973",
   "metadata": {},
   "outputs": [],
   "source": [
    "print(list_a[-1])"
   ]
  },
  {
   "cell_type": "code",
   "execution_count": null,
   "id": "7a930cd8-41e2-45d0-967f-b73563e2ce4a",
   "metadata": {},
   "outputs": [],
   "source": [
    "print(list_a[-1][2])"
   ]
  },
  {
   "cell_type": "code",
   "execution_count": null,
   "id": "f4f01c4a-6b63-46bd-b1bd-23f28c2191d1",
   "metadata": {},
   "outputs": [],
   "source": [
    "for fruit in fruits:\n",
    "    print(fruit)"
   ]
  },
  {
   "cell_type": "code",
   "execution_count": null,
   "id": "0517b798-7a3a-4b36-b449-5bc96d80ea3e",
   "metadata": {},
   "outputs": [],
   "source": [
    "for letter in list_a:\n",
    "    print(letter)"
   ]
  },
  {
   "cell_type": "code",
   "execution_count": null,
   "id": "fe32d1c3-9550-49ba-bebe-3aac72fb9894",
   "metadata": {},
   "outputs": [],
   "source": [
    "for letter in list_a:\n",
    "    for unit in letter:\n",
    "        print(unit)"
   ]
  },
  {
   "cell_type": "code",
   "execution_count": null,
   "id": "9011e709-96b4-4110-919a-0c535e67fd7a",
   "metadata": {},
   "outputs": [],
   "source": [
    "for number in range(0, 3):\n",
    "    print(number)"
   ]
  },
  {
   "cell_type": "code",
   "execution_count": null,
   "id": "5529bb7f-e118-444c-9d08-7d1f2d108764",
   "metadata": {},
   "outputs": [],
   "source": [
    "for position, letter in enumerate(list_a):\n",
    "    print(letter, \"is in position \", position)"
   ]
  },
  {
   "cell_type": "code",
   "execution_count": null,
   "id": "b4d1851b-d27b-4196-9763-6319bce7ee8d",
   "metadata": {},
   "outputs": [],
   "source": [
    "print(fruits[20:])"
   ]
  },
  {
   "cell_type": "code",
   "execution_count": null,
   "id": "e9db6547-5693-4455-a31e-d9c4ad51f3e2",
   "metadata": {},
   "outputs": [],
   "source": []
  },
  {
   "cell_type": "code",
   "execution_count": null,
   "id": "3882b202-ce83-47e3-aab4-419bdb4c2440",
   "metadata": {},
   "outputs": [],
   "source": [
    "fruit = \"gooseberry\"\n",
    "print(fruit[0])\n",
    "print(fruit[0:3])\n"
   ]
  },
  {
   "cell_type": "code",
   "execution_count": null,
   "id": "13b30c78-98a8-48fd-92dc-be41da3981cc",
   "metadata": {},
   "outputs": [],
   "source": [
    "fruit_title = fruit.capitalize()\n",
    "print(fruit_title)"
   ]
  },
  {
   "cell_type": "code",
   "execution_count": null,
   "id": "a1d906ef-ddd1-446b-8763-319d70a92c5f",
   "metadata": {},
   "outputs": [],
   "source": [
    "bad_str1 = \"  Hello world!   \"\n",
    "bad_str2 = \"|...goodbye cruel world|\"\n",
    "\n",
    "good_str1 = bad_str1.strip()\n",
    "good_str2 = bad_str2.strip(\"|\")\n",
    "\n",
    "print(good_str1, \"\\n\", good_str2)"
   ]
  },
  {
   "cell_type": "code",
   "execution_count": null,
   "id": "c381257f-276e-4c75-85fc-7247800d0fc8",
   "metadata": {},
   "outputs": [],
   "source": [
    "sentence= \"Hello World!\"\n",
    "print(sentence.swapcase())"
   ]
  },
  {
   "cell_type": "code",
   "execution_count": null,
   "id": "3d57f5f1-a80c-409e-b6d4-19112b86b514",
   "metadata": {},
   "outputs": [],
   "source": [
    "print(sentence.isupper())\n",
    "print(sentence.upper())"
   ]
  },
  {
   "cell_type": "code",
   "execution_count": null,
   "id": "d786265e-821c-4ee1-b3d7-fabe607e042b",
   "metadata": {},
   "outputs": [],
   "source": [
    "import random\n",
    "\n",
    "random.shuffle(fruits)\n",
    "\n",
    "for f in fruits:\n",
    "    print(f.title())"
   ]
  },
  {
   "cell_type": "code",
   "execution_count": null,
   "id": "5fae98ce-1bd0-457e-8cd5-cfb56e78df8c",
   "metadata": {},
   "outputs": [],
   "source": [
    "people ={\"Adan\": 2,\n",
    "         \"Dan\": 4,\n",
    "         \"An\": 6\n",
    "        }\n",
    "print(people)\n"
   ]
  },
  {
   "cell_type": "code",
   "execution_count": null,
   "id": "8920733f-5205-4c32-b766-33ae6a87c012",
   "metadata": {},
   "outputs": [],
   "source": [
    "print(people[\"Dan\"])"
   ]
  },
  {
   "cell_type": "code",
   "execution_count": null,
   "id": "7e8ee614-2097-42ce-86d1-655da6fc1421",
   "metadata": {},
   "outputs": [],
   "source": [
    "print(\"JaY\" in people)"
   ]
  },
  {
   "cell_type": "code",
   "execution_count": null,
   "id": "17e1617e-93d4-44cb-abb8-6b55561f7177",
   "metadata": {},
   "outputs": [],
   "source": [
    "print(\"Dan\" in people)"
   ]
  },
  {
   "cell_type": "code",
   "execution_count": null,
   "id": "c1b39e79-530c-46c4-a54b-e1aa730e9ef6",
   "metadata": {},
   "outputs": [],
   "source": [
    "for name, number in people.items():\n",
    "    print(name,\" the number is \", number)"
   ]
  },
  {
   "cell_type": "code",
   "execution_count": null,
   "id": "f142aa42-5933-48e3-bc1e-12e4a6739336",
   "metadata": {},
   "outputs": [],
   "source": [
    "for name, number in people:\n",
    "    print(name,\" the number is \", number)"
   ]
  },
  {
   "cell_type": "code",
   "execution_count": null,
   "id": "b5a276e0-f60f-4065-a477-cdf8d4898acf",
   "metadata": {},
   "outputs": [],
   "source": [
    "     for number in range(0,3):\n",
    "         running=+number\n",
    "         print(\"running =+ \", number)\n",
    "\n",
    "print(\"total: \",number)"
   ]
  },
  {
   "cell_type": "code",
   "execution_count": null,
   "id": "0a0d6ed0-4ac7-445f-8383-aa0c6d69a4d9",
   "metadata": {},
   "outputs": [],
   "source": []
  }
 ],
 "metadata": {
  "kernelspec": {
   "display_name": "Python 3 (ipykernel)",
   "language": "python",
   "name": "python3"
  },
  "language_info": {
   "codemirror_mode": {
    "name": "ipython",
    "version": 3
   },
   "file_extension": ".py",
   "mimetype": "text/x-python",
   "name": "python",
   "nbconvert_exporter": "python",
   "pygments_lexer": "ipython3",
   "version": "3.12.4"
  }
 },
 "nbformat": 4,
 "nbformat_minor": 5
}
