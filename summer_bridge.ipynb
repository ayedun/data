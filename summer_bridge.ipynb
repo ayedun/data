{
 "cells": [
  {
   "cell_type": "code",
   "execution_count": 1,
   "id": "9061a2f9-37d6-40aa-adad-a9d1c077dfa1",
   "metadata": {},
   "outputs": [
    {
     "data": {
      "text/plain": [
       "10"
      ]
     },
     "execution_count": 1,
     "metadata": {},
     "output_type": "execute_result"
    }
   ],
   "source": [
    "3 + 7"
   ]
  },
  {
   "cell_type": "code",
   "execution_count": 2,
   "id": "7fae025e-965d-46ae-a4a1-7b58df116f99",
   "metadata": {},
   "outputs": [
    {
     "name": "stdout",
     "output_type": "stream",
     "text": [
      "Hi\n"
     ]
    }
   ],
   "source": [
    "print(\"Hi\")"
   ]
  },
  {
   "cell_type": "code",
   "execution_count": 3,
   "id": "3fcbe5ef-1d25-411d-b29d-062de6869c8b",
   "metadata": {},
   "outputs": [],
   "source": [
    "name =\"qqq\"\n",
    "age= 10"
   ]
  },
  {
   "cell_type": "code",
   "execution_count": 4,
   "id": "a668bf59-10cd-48bc-8985-41c25c788427",
   "metadata": {},
   "outputs": [
    {
     "name": "stdout",
     "output_type": "stream",
     "text": [
      "qqq is 10 years old\n"
     ]
    }
   ],
   "source": [
    "print(name,\"is\",age,\"years old\")"
   ]
  },
  {
   "cell_type": "markdown",
   "id": "abda5bc3-77b0-4160-ae1c-de8e281de543",
   "metadata": {},
   "source": []
  },
  {
   "cell_type": "code",
   "execution_count": 6,
   "id": "82ed499e-8cdb-473f-9a84-e61e9064764f",
   "metadata": {},
   "outputs": [
    {
     "data": {
      "text/plain": [
       "'qqq'"
      ]
     },
     "execution_count": 6,
     "metadata": {},
     "output_type": "execute_result"
    }
   ],
   "source": [
    "name"
   ]
  },
  {
   "cell_type": "markdown",
   "id": "92c7415d-eba0-4c88-98c2-f05cf81e4d56",
   "metadata": {},
   "source": [
    "hi"
   ]
  },
  {
   "cell_type": "markdown",
   "id": "2b9e09ea-c41c-4f0e-95a8-c00279110c33",
   "metadata": {},
   "source": [
    "First section of the day"
   ]
  },
  {
   "cell_type": "code",
   "execution_count": 9,
   "id": "b2d031b4-555f-4149-bd2e-5ee69a826a2f",
   "metadata": {},
   "outputs": [],
   "source": [
    "#First section of the day"
   ]
  },
  {
   "cell_type": "markdown",
   "id": "f45113da-9ad3-4eb7-b9b2-d086edbfdb06",
   "metadata": {},
   "source": [
    "#First section of the day"
   ]
  },
  {
   "cell_type": "code",
   "execution_count": 11,
   "id": "11330b78-0931-4918-bfa7-987101ef676e",
   "metadata": {},
   "outputs": [
    {
     "name": "stdout",
     "output_type": "stream",
     "text": [
      "10\n",
      "13\n"
     ]
    }
   ],
   "source": [
    "#Variables can be used in calculations\n",
    "print(age)\n",
    "age = age + 3\n",
    "print(age)"
   ]
  },
  {
   "cell_type": "code",
   "execution_count": 12,
   "id": "6ba6f5a6-4b2a-4389-9688-3fa447c76efc",
   "metadata": {},
   "outputs": [
    {
     "name": "stdout",
     "output_type": "stream",
     "text": [
      "2\n",
      "5\n"
     ]
    }
   ],
   "source": [
    "#order of operations matters\n",
    "first = 1\n",
    "second = first * 5\n",
    "first = 2\n",
    "print(first)\n",
    "print(second)"
   ]
  },
  {
   "cell_type": "code",
   "execution_count": 13,
   "id": "ab8ae104-1fc3-4970-b8c9-0bd34e448e05",
   "metadata": {},
   "outputs": [
    {
     "name": "stdout",
     "output_type": "stream",
     "text": [
      "qqq13\n"
     ]
    }
   ],
   "source": [
    "name_and_age= name +str(age)\n",
    "print(name_and_age)"
   ]
  },
  {
   "cell_type": "code",
   "execution_count": 14,
   "id": "c99c424f-dde9-4fd7-8e9c-75ac200542e8",
   "metadata": {},
   "outputs": [
    {
     "name": "stdout",
     "output_type": "stream",
     "text": [
      "3\n"
     ]
    }
   ],
   "source": [
    "print(len(name))\n"
   ]
  },
  {
   "cell_type": "code",
   "execution_count": 15,
   "id": "9c4571bf-8cee-41ae-81f9-11bf8d9c2307",
   "metadata": {},
   "outputs": [
    {
     "name": "stdout",
     "output_type": "stream",
     "text": [
      "2\n",
      "1.6666666666666667\n",
      "1\n"
     ]
    }
   ],
   "source": [
    "print(8 //3)\n",
    "print(5 /3)\n",
    "print(7 %3)\n"
   ]
  },
  {
   "cell_type": "code",
   "execution_count": 16,
   "id": "650d012c-8a34-43a4-af98-d3310d38febb",
   "metadata": {},
   "outputs": [],
   "source": [
    "import math"
   ]
  },
  {
   "cell_type": "code",
   "execution_count": 17,
   "id": "c8ac0f1a-f6d5-4749-a360-803bae574c17",
   "metadata": {},
   "outputs": [
    {
     "name": "stdout",
     "output_type": "stream",
     "text": [
      "3.141592653589793\n"
     ]
    }
   ],
   "source": [
    "print(math.pi)"
   ]
  },
  {
   "cell_type": "code",
   "execution_count": 18,
   "id": "2d52e016-fb4f-40cc-b630-90e8c8f18abb",
   "metadata": {},
   "outputs": [
    {
     "name": "stdout",
     "output_type": "stream",
     "text": [
      "The Zen of Python, by Tim Peters\n",
      "\n",
      "Beautiful is better than ugly.\n",
      "Explicit is better than implicit.\n",
      "Simple is better than complex.\n",
      "Complex is better than complicated.\n",
      "Flat is better than nested.\n",
      "Sparse is better than dense.\n",
      "Readability counts.\n",
      "Special cases aren't special enough to break the rules.\n",
      "Although practicality beats purity.\n",
      "Errors should never pass silently.\n",
      "Unless explicitly silenced.\n",
      "In the face of ambiguity, refuse the temptation to guess.\n",
      "There should be one-- and preferably only one --obvious way to do it.\n",
      "Although that way may not be obvious at first unless you're Dutch.\n",
      "Now is better than never.\n",
      "Although never is often better than *right* now.\n",
      "If the implementation is hard to explain, it's a bad idea.\n",
      "If the implementation is easy to explain, it may be a good idea.\n",
      "Namespaces are one honking great idea -- let's do more of those!\n"
     ]
    }
   ],
   "source": [
    "import this"
   ]
  },
  {
   "cell_type": "code",
   "execution_count": 19,
   "id": "cb9971a1-758b-4016-98d5-42aa7586c374",
   "metadata": {},
   "outputs": [
    {
     "name": "stdout",
     "output_type": "stream",
     "text": [
      "['apple', 'banana', 'cherry', 'date', 'elderberry', 'fig']\n",
      "6\n"
     ]
    }
   ],
   "source": [
    "fruits = [\"apple\", \"banana\", \"cherry\", \"date\", \"elderberry\", \"fig\"]\n",
    "print(fruits)\n",
    "print(len(fruits))"
   ]
  },
  {
   "cell_type": "code",
   "execution_count": 20,
   "id": "e5872671-71e6-4d01-937c-da18df1c2ddd",
   "metadata": {},
   "outputs": [
    {
     "name": "stdout",
     "output_type": "stream",
     "text": [
      "6\n"
     ]
    }
   ],
   "source": [
    "print(len(fruits))"
   ]
  },
  {
   "cell_type": "code",
   "execution_count": 21,
   "id": "54d4a66b-4eec-4285-8d3a-7b904c7c30ba",
   "metadata": {},
   "outputs": [
    {
     "name": "stdout",
     "output_type": "stream",
     "text": [
      "date\n"
     ]
    }
   ],
   "source": [
    "print(fruits[3])"
   ]
  },
  {
   "cell_type": "code",
   "execution_count": 22,
   "id": "90012e3d-8a14-4816-ad12-9dc7987ca304",
   "metadata": {},
   "outputs": [
    {
     "name": "stdout",
     "output_type": "stream",
     "text": [
      "2.6\n"
     ]
    }
   ],
   "source": [
    "radiance = 1.0\n",
    "radiance = max(2.1, 2.0 + min(radiance, 1.1 * radiance - 0.5))\n",
    "print(radiance)"
   ]
  },
  {
   "cell_type": "code",
   "execution_count": 23,
   "id": "3893991c-8ada-421c-a82f-67b7a0b1eaed",
   "metadata": {},
   "outputs": [
    {
     "name": "stdout",
     "output_type": "stream",
     "text": [
      "['apple', 'elderberry']\n"
     ]
    }
   ],
   "source": [
    "print(fruits[::4])"
   ]
  },
  {
   "cell_type": "code",
   "execution_count": 24,
   "id": "cbd1323d-1d92-4329-a713-b05f7491761f",
   "metadata": {},
   "outputs": [
    {
     "name": "stdout",
     "output_type": "stream",
     "text": [
      "['apple', 'date']\n"
     ]
    }
   ],
   "source": [
    "print(fruits[::3])"
   ]
  },
  {
   "cell_type": "code",
   "execution_count": 25,
   "id": "962d9b91-aef6-4aed-a332-9f32a1f3c68a",
   "metadata": {},
   "outputs": [
    {
     "data": {
      "text/plain": [
       "True"
      ]
     },
     "execution_count": 25,
     "metadata": {},
     "output_type": "execute_result"
    }
   ],
   "source": [
    "len(fruits[4:5]) == 1\n"
   ]
  },
  {
   "cell_type": "code",
   "execution_count": 26,
   "id": "714c6d4b-9233-4100-af92-e283e464b34a",
   "metadata": {},
   "outputs": [
    {
     "name": "stdout",
     "output_type": "stream",
     "text": [
      "fig\n",
      "['date', 'elderberry', 'fig']\n"
     ]
    }
   ],
   "source": [
    "print(fruits[-1])\n",
    "#error print(fruits[20])\n",
    "print(fruits[-3:])"
   ]
  },
  {
   "cell_type": "code",
   "execution_count": 27,
   "id": "a523f5b5-4779-4034-acd8-9a4dff579c5a",
   "metadata": {},
   "outputs": [
    {
     "name": "stdout",
     "output_type": "stream",
     "text": [
      "['apple', 'banana', 'cherry', 'date', 'elderberry', 'fig']\n"
     ]
    }
   ],
   "source": [
    "print(fruits)"
   ]
  },
  {
   "cell_type": "code",
   "execution_count": 28,
   "id": "1688ae45-a119-4741-9d91-acd2c01cd4e4",
   "metadata": {},
   "outputs": [],
   "source": [
    "more_fruits = [\"honeydew\", \"imbe\", \"jackfruit\"]"
   ]
  },
  {
   "cell_type": "code",
   "execution_count": 29,
   "id": "655f5e4e-cc39-4651-ab79-048b634f7480",
   "metadata": {},
   "outputs": [
    {
     "name": "stdout",
     "output_type": "stream",
     "text": [
      "['apple', 'banana', 'cherry', 'date', 'elderberry', 'fig']\n",
      "['honeydew', 'imbe', 'jackfruit']\n"
     ]
    }
   ],
   "source": [
    "print(fruits)\n",
    "print(more_fruits)"
   ]
  },
  {
   "cell_type": "code",
   "execution_count": null,
   "id": "80112806-02e7-4158-bc31-a2364b88ecd3",
   "metadata": {},
   "outputs": [],
   "source": []
  },
  {
   "cell_type": "code",
   "execution_count": 30,
   "id": "823ceea9-8712-435a-80e2-32039a22ef58",
   "metadata": {},
   "outputs": [
    {
     "name": "stdout",
     "output_type": "stream",
     "text": [
      "['apple', 'banana', 'cherry', 'date', 'elderberry', 'fig', 'soda']\n"
     ]
    }
   ],
   "source": [
    "fruits.append(\"soda\")\n",
    "print(fruits)"
   ]
  },
  {
   "cell_type": "code",
   "execution_count": 31,
   "id": "075b3a09-f57b-468f-8f8e-2782926bac07",
   "metadata": {},
   "outputs": [
    {
     "name": "stdout",
     "output_type": "stream",
     "text": [
      "['apple', 'banana', 'cherry', 'date', 'elderberry', 'fig', 'soda']\n"
     ]
    }
   ],
   "source": [
    "print(fruits)"
   ]
  },
  {
   "cell_type": "code",
   "execution_count": 32,
   "id": "558ed2c6-457a-4e89-95ab-d4104a193b5b",
   "metadata": {},
   "outputs": [],
   "source": [
    "fruits = [\"apple\", \"banana\", \"cherry\", \"date\", \"elderberry\", \"fig\"]\n"
   ]
  },
  {
   "cell_type": "code",
   "execution_count": 33,
   "id": "f91e7e7f-fe89-4f47-9025-d76c770740c9",
   "metadata": {},
   "outputs": [],
   "source": [
    "more_fruits = [\"honeydew\", \"imbe\", \"jackfruit\"]"
   ]
  },
  {
   "cell_type": "code",
   "execution_count": 34,
   "id": "9ced2cf7-c0ce-442c-9573-0a9b0a9112f8",
   "metadata": {},
   "outputs": [
    {
     "name": "stdout",
     "output_type": "stream",
     "text": [
      "['apple', 'banana', 'cherry', 'date', 'elderberry', 'fig', 'honeydew', 'imbe', 'jackfruit']\n"
     ]
    }
   ],
   "source": [
    "fruits.extend(more_fruits)\n",
    "print(fruits)"
   ]
  },
  {
   "cell_type": "code",
   "execution_count": 35,
   "id": "59ffd169-b9a9-4cf9-aa85-8bb35cc1d1e8",
   "metadata": {},
   "outputs": [
    {
     "name": "stdout",
     "output_type": "stream",
     "text": [
      "['apple', 'banana', 'cherry', 'date', 'elderberry', 'fig', 'honeydew', 'imbe', 'jackfruit']\n",
      "Last fruit in list: jackfruit\n",
      "['apple', 'banana', 'cherry', 'date', 'elderberry', 'fig', 'honeydew', 'imbe']\n"
     ]
    }
   ],
   "source": [
    "print(fruits)\n",
    "f = fruits.pop()\n",
    "\n",
    "print('Last fruit in list:', f)\n",
    "print(fruits)"
   ]
  },
  {
   "cell_type": "code",
   "execution_count": 36,
   "id": "1e9e870a-0ec3-4a0e-9864-ad0308f95ca2",
   "metadata": {},
   "outputs": [
    {
     "name": "stdout",
     "output_type": "stream",
     "text": [
      "['a', 'b', 'c']\n",
      "['d', 'e', 'f']\n",
      "appended:  ['a', 'b', 'c', ['d', 'e', 'f']]\n"
     ]
    }
   ],
   "source": [
    "list_a=[\"a\",\"b\",\"c\"]\n",
    "list_b=[\"d\", \"e\", \"f\"]\n",
    "print(list_a)\n",
    "print(list_b)\n",
    "list_a.append(list_b)\n",
    "print(\"appended: \",list_a)"
   ]
  },
  {
   "cell_type": "code",
   "execution_count": 37,
   "id": "d7dd48d5-5a5b-4aa0-85ec-07bb9ceb0973",
   "metadata": {},
   "outputs": [
    {
     "name": "stdout",
     "output_type": "stream",
     "text": [
      "['d', 'e', 'f']\n"
     ]
    }
   ],
   "source": [
    "print(list_a[-1])"
   ]
  },
  {
   "cell_type": "code",
   "execution_count": 38,
   "id": "7a930cd8-41e2-45d0-967f-b73563e2ce4a",
   "metadata": {},
   "outputs": [
    {
     "name": "stdout",
     "output_type": "stream",
     "text": [
      "f\n"
     ]
    }
   ],
   "source": [
    "print(list_a[-1][2])"
   ]
  },
  {
   "cell_type": "code",
   "execution_count": 39,
   "id": "f4f01c4a-6b63-46bd-b1bd-23f28c2191d1",
   "metadata": {},
   "outputs": [
    {
     "name": "stdout",
     "output_type": "stream",
     "text": [
      "apple\n",
      "banana\n",
      "cherry\n",
      "date\n",
      "elderberry\n",
      "fig\n",
      "honeydew\n",
      "imbe\n"
     ]
    }
   ],
   "source": [
    "for fruit in fruits:\n",
    "    print(fruit)"
   ]
  },
  {
   "cell_type": "code",
   "execution_count": 40,
   "id": "0517b798-7a3a-4b36-b449-5bc96d80ea3e",
   "metadata": {},
   "outputs": [
    {
     "name": "stdout",
     "output_type": "stream",
     "text": [
      "a\n",
      "b\n",
      "c\n",
      "['d', 'e', 'f']\n"
     ]
    }
   ],
   "source": [
    "for letter in list_a:\n",
    "    print(letter)"
   ]
  },
  {
   "cell_type": "code",
   "execution_count": 41,
   "id": "fe32d1c3-9550-49ba-bebe-3aac72fb9894",
   "metadata": {},
   "outputs": [
    {
     "name": "stdout",
     "output_type": "stream",
     "text": [
      "a\n",
      "b\n",
      "c\n",
      "d\n",
      "e\n",
      "f\n"
     ]
    }
   ],
   "source": [
    "for letter in list_a:\n",
    "    for unit in letter:\n",
    "        print(unit)"
   ]
  },
  {
   "cell_type": "code",
   "execution_count": 42,
   "id": "9011e709-96b4-4110-919a-0c535e67fd7a",
   "metadata": {},
   "outputs": [
    {
     "name": "stdout",
     "output_type": "stream",
     "text": [
      "0\n",
      "1\n",
      "2\n"
     ]
    }
   ],
   "source": [
    "for number in range(0, 3):\n",
    "    print(number)"
   ]
  },
  {
   "cell_type": "code",
   "execution_count": 43,
   "id": "5529bb7f-e118-444c-9d08-7d1f2d108764",
   "metadata": {},
   "outputs": [
    {
     "name": "stdout",
     "output_type": "stream",
     "text": [
      "a is in position  0\n",
      "b is in position  1\n",
      "c is in position  2\n",
      "['d', 'e', 'f'] is in position  3\n"
     ]
    }
   ],
   "source": [
    "for position, letter in enumerate(list_a):\n",
    "    print(letter, \"is in position \", position)"
   ]
  },
  {
   "cell_type": "code",
   "execution_count": 44,
   "id": "b4d1851b-d27b-4196-9763-6319bce7ee8d",
   "metadata": {},
   "outputs": [
    {
     "name": "stdout",
     "output_type": "stream",
     "text": [
      "[]\n"
     ]
    }
   ],
   "source": [
    "print(fruits[20:])"
   ]
  },
  {
   "cell_type": "code",
   "execution_count": null,
   "id": "e9db6547-5693-4455-a31e-d9c4ad51f3e2",
   "metadata": {},
   "outputs": [],
   "source": []
  },
  {
   "cell_type": "code",
   "execution_count": 45,
   "id": "3882b202-ce83-47e3-aab4-419bdb4c2440",
   "metadata": {},
   "outputs": [
    {
     "name": "stdout",
     "output_type": "stream",
     "text": [
      "g\n",
      "goo\n"
     ]
    }
   ],
   "source": [
    "fruit = \"gooseberry\"\n",
    "print(fruit[0])\n",
    "print(fruit[0:3])\n"
   ]
  },
  {
   "cell_type": "code",
   "execution_count": 46,
   "id": "13b30c78-98a8-48fd-92dc-be41da3981cc",
   "metadata": {},
   "outputs": [
    {
     "name": "stdout",
     "output_type": "stream",
     "text": [
      "Gooseberry\n"
     ]
    }
   ],
   "source": [
    "fruit_title = fruit.capitalize()\n",
    "print(fruit_title)"
   ]
  },
  {
   "cell_type": "code",
   "execution_count": 47,
   "id": "a1d906ef-ddd1-446b-8763-319d70a92c5f",
   "metadata": {},
   "outputs": [
    {
     "name": "stdout",
     "output_type": "stream",
     "text": [
      "Hello world! \n",
      " ...goodbye cruel world\n"
     ]
    }
   ],
   "source": [
    "bad_str1 = \"  Hello world!   \"\n",
    "bad_str2 = \"|...goodbye cruel world|\"\n",
    "\n",
    "good_str1 = bad_str1.strip()\n",
    "good_str2 = bad_str2.strip(\"|\")\n",
    "\n",
    "print(good_str1, \"\\n\", good_str2)"
   ]
  },
  {
   "cell_type": "code",
   "execution_count": 48,
   "id": "c381257f-276e-4c75-85fc-7247800d0fc8",
   "metadata": {},
   "outputs": [
    {
     "name": "stdout",
     "output_type": "stream",
     "text": [
      "hELLO wORLD!\n"
     ]
    }
   ],
   "source": [
    "sentence= \"Hello World!\"\n",
    "print(sentence.swapcase())"
   ]
  },
  {
   "cell_type": "code",
   "execution_count": 49,
   "id": "3d57f5f1-a80c-409e-b6d4-19112b86b514",
   "metadata": {},
   "outputs": [
    {
     "name": "stdout",
     "output_type": "stream",
     "text": [
      "False\n",
      "HELLO WORLD!\n"
     ]
    }
   ],
   "source": [
    "print(sentence.isupper())\n",
    "print(sentence.upper())"
   ]
  },
  {
   "cell_type": "code",
   "execution_count": 50,
   "id": "d786265e-821c-4ee1-b3d7-fabe607e042b",
   "metadata": {},
   "outputs": [
    {
     "name": "stdout",
     "output_type": "stream",
     "text": [
      "Imbe\n",
      "Banana\n",
      "Date\n",
      "Apple\n",
      "Honeydew\n",
      "Cherry\n",
      "Fig\n",
      "Elderberry\n"
     ]
    }
   ],
   "source": [
    "import random\n",
    "\n",
    "random.shuffle(fruits)\n",
    "\n",
    "for f in fruits:\n",
    "    print(f.title())"
   ]
  },
  {
   "cell_type": "code",
   "execution_count": 51,
   "id": "5fae98ce-1bd0-457e-8cd5-cfb56e78df8c",
   "metadata": {},
   "outputs": [
    {
     "name": "stdout",
     "output_type": "stream",
     "text": [
      "{'Adan': 2, 'Dan': 4, 'An': 6}\n"
     ]
    }
   ],
   "source": [
    "people ={\"Adan\": 2,\n",
    "         \"Dan\": 4,\n",
    "         \"An\": 6\n",
    "        }\n",
    "print(people)\n"
   ]
  },
  {
   "cell_type": "code",
   "execution_count": 52,
   "id": "8920733f-5205-4c32-b766-33ae6a87c012",
   "metadata": {},
   "outputs": [
    {
     "name": "stdout",
     "output_type": "stream",
     "text": [
      "4\n"
     ]
    }
   ],
   "source": [
    "print(people[\"Dan\"])"
   ]
  },
  {
   "cell_type": "code",
   "execution_count": 53,
   "id": "7e8ee614-2097-42ce-86d1-655da6fc1421",
   "metadata": {},
   "outputs": [
    {
     "name": "stdout",
     "output_type": "stream",
     "text": [
      "False\n"
     ]
    }
   ],
   "source": [
    "print(\"JaY\" in people)"
   ]
  },
  {
   "cell_type": "code",
   "execution_count": 54,
   "id": "17e1617e-93d4-44cb-abb8-6b55561f7177",
   "metadata": {},
   "outputs": [
    {
     "name": "stdout",
     "output_type": "stream",
     "text": [
      "True\n"
     ]
    }
   ],
   "source": [
    "print(\"Dan\" in people)"
   ]
  },
  {
   "cell_type": "code",
   "execution_count": 55,
   "id": "c1b39e79-530c-46c4-a54b-e1aa730e9ef6",
   "metadata": {},
   "outputs": [
    {
     "name": "stdout",
     "output_type": "stream",
     "text": [
      "Adan  the number is  2\n",
      "Dan  the number is  4\n",
      "An  the number is  6\n"
     ]
    }
   ],
   "source": [
    "for name, number in people.items():\n",
    "    print(name,\" the number is \", number)"
   ]
  },
  {
   "cell_type": "code",
   "execution_count": 56,
   "id": "f142aa42-5933-48e3-bc1e-12e4a6739336",
   "metadata": {},
   "outputs": [
    {
     "ename": "ValueError",
     "evalue": "too many values to unpack (expected 2)",
     "output_type": "error",
     "traceback": [
      "\u001b[1;31m---------------------------------------------------------------------------\u001b[0m",
      "\u001b[1;31mValueError\u001b[0m                                Traceback (most recent call last)",
      "Cell \u001b[1;32mIn[56], line 1\u001b[0m\n\u001b[1;32m----> 1\u001b[0m \u001b[38;5;28;01mfor\u001b[39;00m name, number \u001b[38;5;129;01min\u001b[39;00m people:\n\u001b[0;32m      2\u001b[0m     \u001b[38;5;28mprint\u001b[39m(name,\u001b[38;5;124m\"\u001b[39m\u001b[38;5;124m the number is \u001b[39m\u001b[38;5;124m\"\u001b[39m, number)\n",
      "\u001b[1;31mValueError\u001b[0m: too many values to unpack (expected 2)"
     ]
    }
   ],
   "source": [
    "for name, number in people:\n",
    "    print(name,\" the number is \", number)"
   ]
  },
  {
   "cell_type": "code",
   "execution_count": null,
   "id": "b5a276e0-f60f-4065-a477-cdf8d4898acf",
   "metadata": {},
   "outputs": [],
   "source": [
    "     for number in range(0,3):\n",
    "         running=+number\n",
    "         print(\"running =+ \", number)\n",
    "\n",
    "print(\"total: \",number)"
   ]
  },
  {
   "cell_type": "code",
   "execution_count": null,
   "id": "0a0d6ed0-4ac7-445f-8383-aa0c6d69a4d9",
   "metadata": {},
   "outputs": [],
   "source": [
    "import numpy as np\n",
    "help(np.random.rand)"
   ]
  },
  {
   "cell_type": "code",
   "execution_count": null,
   "id": "bcbd1a39-5b06-4cc7-8db3-0824356ab682",
   "metadata": {},
   "outputs": [],
   "source": [
    "m_rand = np.random.rand(3,4)\n",
    "print(m_rand)"
   ]
  },
  {
   "cell_type": "code",
   "execution_count": null,
   "id": "f06328db-eae8-425b-a9d8-91c12774a6e0",
   "metadata": {},
   "outputs": [],
   "source": [
    "print(m_rand[2,3])"
   ]
  },
  {
   "cell_type": "code",
   "execution_count": null,
   "id": "b75d3880-3e20-4618-b47b-cf0bc6e26d0b",
   "metadata": {},
   "outputs": [],
   "source": [
    "print(m_rand.shape)"
   ]
  },
  {
   "cell_type": "code",
   "execution_count": null,
   "id": "97247626-f4b2-454d-b4ae-cf75eab9dbb0",
   "metadata": {},
   "outputs": [],
   "source": [
    "print(m_rand.size)"
   ]
  },
  {
   "cell_type": "code",
   "execution_count": null,
   "id": "8dd18a12-efdb-4f0d-a447-6547ae9df266",
   "metadata": {},
   "outputs": [],
   "source": [
    "print(m_rand.ndim)"
   ]
  },
  {
   "cell_type": "code",
   "execution_count": null,
   "id": "589196b1-0ab8-4f76-ac50-63a1ddb577a7",
   "metadata": {},
   "outputs": [],
   "source": [
    "x = np.arange(9)\n",
    "y = np.arange(0,9)"
   ]
  },
  {
   "cell_type": "code",
   "execution_count": null,
   "id": "8f18ea33-4064-4897-ab08-f87f2ba13add",
   "metadata": {},
   "outputs": [],
   "source": [
    "print(x)\n",
    "print(y)"
   ]
  },
  {
   "cell_type": "code",
   "execution_count": null,
   "id": "1ba11531-d5e6-433f-be4c-c66f1e3ae18b",
   "metadata": {},
   "outputs": [],
   "source": [
    "print(x*y)"
   ]
  },
  {
   "cell_type": "code",
   "execution_count": null,
   "id": "c306c05e-1eb3-49be-9131-567e818b275f",
   "metadata": {},
   "outputs": [],
   "source": [
    "x @ y\n"
   ]
  },
  {
   "cell_type": "code",
   "execution_count": null,
   "id": "a0bbd1c3-a0d4-4476-90d0-3fdfb769f3ed",
   "metadata": {},
   "outputs": [],
   "source": [
    "print(x)\n",
    "print(y)"
   ]
  },
  {
   "cell_type": "code",
   "execution_count": null,
   "id": "ca03e966-72da-44cc-bc98-4fb12ca4d964",
   "metadata": {},
   "outputs": [],
   "source": [
    "x1 = x.reshape(3,3)\n",
    "print(x)\n",
    "print(x1)"
   ]
  },
  {
   "cell_type": "code",
   "execution_count": null,
   "id": "0a9fa32f-dae7-4eec-b74c-ab9107aacb39",
   "metadata": {},
   "outputs": [],
   "source": [
    "import os"
   ]
  },
  {
   "cell_type": "code",
   "execution_count": null,
   "id": "98372662-dfbd-4c07-8db4-0d018226ea05",
   "metadata": {},
   "outputs": [],
   "source": [
    "print(os.getcwd())"
   ]
  },
  {
   "cell_type": "code",
   "execution_count": null,
   "id": "97a8a50d-83a6-4715-8bce-02a6f04086a6",
   "metadata": {},
   "outputs": [],
   "source": [
    "print(os.listdir())"
   ]
  },
  {
   "cell_type": "code",
   "execution_count": null,
   "id": "63b016d7-3646-4ec3-9886-74e8183842a7",
   "metadata": {},
   "outputs": [],
   "source": []
  },
  {
   "cell_type": "code",
   "execution_count": null,
   "id": "22664bb8-7c80-44a0-8a10-56170dddd223",
   "metadata": {},
   "outputs": [],
   "source": [
    "print(x)\n",
    "print(x.T)"
   ]
  },
  {
   "cell_type": "code",
   "execution_count": null,
   "id": "5d549359-900b-4839-b440-6d7d1c619c52",
   "metadata": {},
   "outputs": [],
   "source": [
    "x =np.arange(0,9).reshape(3,3)\n",
    "print(x)\n",
    "x1 = x* x\n",
    "xt= x * x.T\n",
    "print(\"multiple by itself: \\n\", x1)\n",
    "print(\"multiple by transpose: \\n\", xt)\n",
    "xd= x/x\n",
    "print(\"divide by itself: \\n\", xd)"
   ]
  },
  {
   "cell_type": "code",
   "execution_count": null,
   "id": "35fadc78-59b3-4f0f-bbcf-63e69137d807",
   "metadata": {},
   "outputs": [],
   "source": [
    "x =np.arange(0,9).reshape(3,3)\n",
    "print(x)\n",
    "x1 = x* x\n",
    "xt= x * x.T\n",
    "print(\"multiple by itself: \\n\", x1)\n",
    "print(\"multiple by transpose: \\n\", xt)\n"
   ]
  },
  {
   "cell_type": "code",
   "execution_count": null,
   "id": "43a0b768-75c8-4936-a693-1b7ed3f69639",
   "metadata": {},
   "outputs": [],
   "source": [
    "clear"
   ]
  },
  {
   "cell_type": "code",
   "execution_count": null,
   "id": "bd950019-9b46-4d4c-a612-61087fb848f5",
   "metadata": {},
   "outputs": [],
   "source": [
    "import pandas as pd"
   ]
  },
  {
   "cell_type": "code",
   "execution_count": null,
   "id": "f0804790-9831-4dcb-8024-d4a9fcfa7ef1",
   "metadata": {},
   "outputs": [],
   "source": [
    "print(os.getcwd())"
   ]
  },
  {
   "cell_type": "code",
   "execution_count": null,
   "id": "d50b4083-e051-4983-a95f-72805f2c3f12",
   "metadata": {
    "scrolled": true
   },
   "outputs": [],
   "source": []
  },
  {
   "cell_type": "code",
   "execution_count": null,
   "id": "4821de65-0a3d-4a4c-881f-b8a22aca79bf",
   "metadata": {},
   "outputs": [],
   "source": [
    "data= pd.read_csv(\"gapminder_gdp_oceania.csv\")\n",
    "print(data)"
   ]
  },
  {
   "cell_type": "code",
   "execution_count": null,
   "id": "30d2f91b-7006-4007-b114-a6af2a9d3230",
   "metadata": {},
   "outputs": [],
   "source": []
  },
  {
   "cell_type": "code",
   "execution_count": null,
   "id": "2174d134-2d76-4d45-9c37-1241bf0f38d3",
   "metadata": {},
   "outputs": [],
   "source": []
  },
  {
   "cell_type": "code",
   "execution_count": null,
   "id": "5ddf3f3e-fdc2-4c61-a129-62354744e5cd",
   "metadata": {},
   "outputs": [],
   "source": [
    "data= pd.read_csv(\"gapminder_gdp_oceania.csv\")\n",
    "print(data)\n",
    "print(\"\\n\")\n",
    "\n",
    "data.head()\n",
    "print(data.iloc[0,4])"
   ]
  },
  {
   "cell_type": "code",
   "execution_count": null,
   "id": "72d3acd9-1727-478c-aa0d-b5548b583016",
   "metadata": {},
   "outputs": [],
   "source": [
    "data= pd.read_csv(\"gapminder_gdp_oceania.csv\")\n",
    "print(data)\n",
    "print(\"\\n\")\n",
    "\n",
    "data = pd.read_csv(\"gapminder_gdp_oceania.csv\", index_col=\"country\")\n",
    "print(data.loc[\"New Zealand\", \"gdpPercap_2007\"])"
   ]
  },
  {
   "cell_type": "code",
   "execution_count": null,
   "id": "8e935d41-c650-4d58-b173-6b30bd6f8fca",
   "metadata": {},
   "outputs": [],
   "source": [
    "name = \"adan\".title"
   ]
  },
  {
   "cell_type": "code",
   "execution_count": null,
   "id": "8c35106c-f98c-4c34-81c1-6cbabff7f2e8",
   "metadata": {},
   "outputs": [],
   "source": [
    "print(name)"
   ]
  },
  {
   "cell_type": "code",
   "execution_count": null,
   "id": "a7eacca6-2e43-4f38-9801-900313827a47",
   "metadata": {},
   "outputs": [],
   "source": [
    "help(\"adan\".title())"
   ]
  },
  {
   "cell_type": "code",
   "execution_count": null,
   "id": "8248f7dc-b5aa-4ae4-afe2-6601951a73b8",
   "metadata": {},
   "outputs": [],
   "source": [
    "print(dir(\"hello\"))"
   ]
  },
  {
   "cell_type": "code",
   "execution_count": null,
   "id": "b08fa251-fdca-4872-a38d-a78804cda3b8",
   "metadata": {},
   "outputs": [],
   "source": [
    "print(data.columns)\n",
    "print(dir(data.columns.str))"
   ]
  },
  {
   "cell_type": "code",
   "execution_count": null,
   "id": "67d3c04e-09e9-47b2-b91b-bb41fb98a8c1",
   "metadata": {},
   "outputs": [],
   "source": [
    "help(dir)"
   ]
  },
  {
   "cell_type": "code",
   "execution_count": null,
   "id": "4f6aff38-7b6c-4aa5-b9a8-3c75c47fdd80",
   "metadata": {},
   "outputs": [],
   "source": [
    "print(data.index)\n",
    "print(data.columns)"
   ]
  },
  {
   "cell_type": "code",
   "execution_count": null,
   "id": "a5eecafa-945d-483e-9153-48deb60ced77",
   "metadata": {},
   "outputs": [],
   "source": [
    "data.columns = data.columns.str.strip(\"gdpPercap_\")\n",
    "print(data.columns)"
   ]
  },
  {
   "cell_type": "code",
   "execution_count": null,
   "id": "fe91caae-c62a-4cd5-8a5b-4fccbaf6e9f4",
   "metadata": {},
   "outputs": [],
   "source": [
    "\n"
   ]
  },
  {
   "cell_type": "code",
   "execution_count": null,
   "id": "c6322cd4-b9f0-4fc0-909d-6b4d5e9c4177",
   "metadata": {},
   "outputs": [],
   "source": [
    "data = pd.read_csv('gapminder_gdp_europe.csv', index_col='country')\n"
   ]
  },
  {
   "cell_type": "code",
   "execution_count": null,
   "id": "b54eaed5-e3e0-40d3-b419-e8aac35838e5",
   "metadata": {},
   "outputs": [],
   "source": [
    "data.head(3)"
   ]
  },
  {
   "cell_type": "code",
   "execution_count": null,
   "id": "916a992e-51af-40e4-8ae7-671f6d3b4399",
   "metadata": {},
   "outputs": [],
   "source": [
    "data.iloc[0,0]"
   ]
  },
  {
   "cell_type": "code",
   "execution_count": null,
   "id": "35dcec55-e047-4200-84de-810817211d88",
   "metadata": {},
   "outputs": [],
   "source": [
    "data.loc[\"Albania\", \"gdpPercap_1952\"]"
   ]
  },
  {
   "cell_type": "code",
   "execution_count": null,
   "id": "3340a62f-d74b-4430-b5d2-3c6d63773441",
   "metadata": {},
   "outputs": [],
   "source": [
    "big_hello= \"hello\".title()"
   ]
  },
  {
   "cell_type": "code",
   "execution_count": null,
   "id": "d3bc245f-ec39-4886-9280-b91871f47575",
   "metadata": {},
   "outputs": [],
   "source": [
    "print(big_hello)"
   ]
  },
  {
   "cell_type": "code",
   "execution_count": null,
   "id": "0519ec56-cf6b-4962-88ee-1baf4fb1fa59",
   "metadata": {},
   "outputs": [],
   "source": [
    "print(data.columns)"
   ]
  },
  {
   "cell_type": "code",
   "execution_count": null,
   "id": "1f1b6e5a-51b2-475e-b212-da96545aacb5",
   "metadata": {},
   "outputs": [],
   "source": [
    "print(data.columns.str)"
   ]
  },
  {
   "cell_type": "code",
   "execution_count": null,
   "id": "107e755e-00db-4f6f-9872-58dca43b8a3d",
   "metadata": {},
   "outputs": [],
   "source": [
    "data.columns = data.columns.str.strip(\"gdpPercap_\")\n"
   ]
  },
  {
   "cell_type": "code",
   "execution_count": null,
   "id": "b9229448-49ed-4f93-9d01-1ec16f718ebf",
   "metadata": {},
   "outputs": [],
   "source": [
    "data.loc[\"Italy\":\"Poland\", \"1962\": \"1972\"]"
   ]
  },
  {
   "cell_type": "code",
   "execution_count": null,
   "id": "09fd97bb-4b99-49a6-b141-78a2bc270ee5",
   "metadata": {},
   "outputs": [],
   "source": [
    "subset = data.loc['Italy':'Poland', '1962':'1972']\n"
   ]
  },
  {
   "cell_type": "code",
   "execution_count": null,
   "id": "080964fb-4960-47a3-8128-bf17ea17df44",
   "metadata": {},
   "outputs": [],
   "source": [
    "print(subset.describe())"
   ]
  },
  {
   "cell_type": "code",
   "execution_count": null,
   "id": "a7e8fc21-cd34-4da2-b8fd-c8cc21709a0b",
   "metadata": {},
   "outputs": [],
   "source": [
    "print(subset.max().max())"
   ]
  },
  {
   "cell_type": "code",
   "execution_count": null,
   "id": "dd1dbacb-705d-48bb-8216-d8259c0e97cf",
   "metadata": {},
   "outputs": [],
   "source": [
    "print(subset.max())"
   ]
  },
  {
   "cell_type": "code",
   "execution_count": null,
   "id": "d1edcf81-be58-406b-9499-a84856ff640f",
   "metadata": {},
   "outputs": [],
   "source": [
    "italy = data.filter(items=[\"Italy\"], axis=\"index\")\n",
    "print(italy)\n",
    "print(type(italy))"
   ]
  },
  {
   "cell_type": "code",
   "execution_count": null,
   "id": "9ee1f736-02ae-4a81-8900-67a0de8261d6",
   "metadata": {},
   "outputs": [],
   "source": []
  },
  {
   "cell_type": "code",
   "execution_count": null,
   "id": "3fdc33c6-f941-467b-9407-dd9051ea074c",
   "metadata": {},
   "outputs": [],
   "source": [
    "help(data.filter)\n",
    "data.filter(like=\"200\", axis=\"columns\")\n",
    "data.filter(like=\"198\", axis=\"columns\").filter(items=[\"Italy\"], axis=\"index\")"
   ]
  },
  {
   "cell_type": "code",
   "execution_count": null,
   "id": "7ca10999-bf14-4962-8fd5-f6c174014696",
   "metadata": {},
   "outputs": [],
   "source": [
    "data.filter(like=\"198\", axis=\"columns\").filter(items=[\"Italy\"], axis=\"index\")"
   ]
  },
  {
   "cell_type": "code",
   "execution_count": null,
   "id": "79081d96-7298-42a6-89a4-11d86b1d4885",
   "metadata": {},
   "outputs": [],
   "source": [
    "print(data.filter(like=\"198\", axis=\"columns\"))\n",
    "print(\"\\n \\n \\n \\n \\n \\n \\n\")\n",
    "print(data.filter(like=\"198\", axis=\"columns\").filter(items=[\"Italy\"], axis=\"index\"))"
   ]
  },
  {
   "cell_type": "code",
   "execution_count": null,
   "id": "dcb908d4-f10b-45a3-8580-2ed23a8c83fe",
   "metadata": {},
   "outputs": [],
   "source": [
    "subset < 10000"
   ]
  },
  {
   "cell_type": "code",
   "execution_count": null,
   "id": "467797f8-67b2-4940-91e6-7676f1a616e0",
   "metadata": {},
   "outputs": [],
   "source": [
    "print(subset[subset >10000])"
   ]
  },
  {
   "cell_type": "code",
   "execution_count": null,
   "id": "a3d4ff17-5e67-434d-80a3-b18e94726b06",
   "metadata": {},
   "outputs": [],
   "source": [
    "df = subset[subset > 10000]\n"
   ]
  },
  {
   "cell_type": "code",
   "execution_count": null,
   "id": "03c3489b-7191-4152-a3fc-70861d114a53",
   "metadata": {},
   "outputs": [],
   "source": [
    "df.isna().sum().sum()\n"
   ]
  },
  {
   "cell_type": "code",
   "execution_count": null,
   "id": "0706de35-b0a3-4c34-a12b-2907339306d5",
   "metadata": {},
   "outputs": [],
   "source": [
    "df.isna()"
   ]
  },
  {
   "cell_type": "code",
   "execution_count": null,
   "id": "d6e3c274-3130-4783-a87c-4396a3aab7c4",
   "metadata": {},
   "outputs": [],
   "source": [
    "df.isna().sum()"
   ]
  },
  {
   "cell_type": "code",
   "execution_count": null,
   "id": "7bbaca1a-879c-47c4-a35f-6498ed6c0768",
   "metadata": {},
   "outputs": [],
   "source": [
    "df_fixed= df.fillna(99)\n",
    "print(df_fixed)"
   ]
  },
  {
   "cell_type": "code",
   "execution_count": null,
   "id": "7468d302-1033-41c4-af68-8001b2256568",
   "metadata": {},
   "outputs": [],
   "source": [
    "df_interpolated = df.interpolate()\n",
    "print(df_interpolated)"
   ]
  },
  {
   "cell_type": "code",
   "execution_count": null,
   "id": "bde080dc-02da-453c-a271-f50b8a5b92e8",
   "metadata": {},
   "outputs": [],
   "source": [
    "random_filter = np.random.rand(30, 12) * data.max(axis=None)\n",
    "print(random_filter)"
   ]
  },
  {
   "cell_type": "code",
   "execution_count": null,
   "id": "b2159b8d-c93d-4afe-b416-9e0a4a4edaea",
   "metadata": {},
   "outputs": [],
   "source": [
    "filtered_data= data[data > random_filter]\n",
    "print(filtered_data)"
   ]
  },
  {
   "cell_type": "code",
   "execution_count": null,
   "id": "7d6e5678-6517-4136-bc05-787f28293a03",
   "metadata": {},
   "outputs": [],
   "source": [
    "filtered_data= data > random_filter\n",
    "print(filtered_data)"
   ]
  },
  {
   "cell_type": "code",
   "execution_count": null,
   "id": "366ee7da-4119-403b-9952-6ea4e05347f5",
   "metadata": {},
   "outputs": [],
   "source": [
    "filtered_data= data[data > random_filter]\n",
    "print(filtered_data)"
   ]
  },
  {
   "cell_type": "code",
   "execution_count": null,
   "id": "4b9476ea-2ba8-4ae1-af56-14768500827d",
   "metadata": {},
   "outputs": [],
   "source": [
    "print(filtered_data.interpolate())"
   ]
  },
  {
   "cell_type": "code",
   "execution_count": null,
   "id": "bb77bb91-543f-4411-b7eb-73233e3892fc",
   "metadata": {},
   "outputs": [],
   "source": [
    "print(filtered_data.interpolate().mean(axis=None))"
   ]
  },
  {
   "cell_type": "code",
   "execution_count": null,
   "id": "8d04abd8-4d97-46d6-b822-39fdafb79257",
   "metadata": {},
   "outputs": [],
   "source": [
    "print(filtered_data.interpolate().mean())"
   ]
  },
  {
   "cell_type": "code",
   "execution_count": null,
   "id": "977802d0-ee67-41cd-a2a3-c2e7b7d5359b",
   "metadata": {},
   "outputs": [],
   "source": [
    "#sorting grouping.\n",
    "#z score of GDP"
   ]
  },
  {
   "cell_type": "code",
   "execution_count": null,
   "id": "ddfc252c-4231-48a8-b83a-3e229bf51c8d",
   "metadata": {},
   "outputs": [],
   "source": [
    "z = (data - data.mean(axis = None))/ data.values.std(ddof =1)"
   ]
  },
  {
   "cell_type": "code",
   "execution_count": null,
   "id": "16c488be-8143-45cc-9558-ae8d5acbb5a6",
   "metadata": {},
   "outputs": [],
   "source": [
    "print(z)"
   ]
  },
  {
   "cell_type": "code",
   "execution_count": null,
   "id": "e732a2de-55aa-4d85-8461-132b1707b82d",
   "metadata": {},
   "outputs": [],
   "source": [
    "mean_z= z.mean(axis=1)"
   ]
  },
  {
   "cell_type": "code",
   "execution_count": null,
   "id": "64e02be2-1a9d-4fe6-b09f-d3a4eaa780ec",
   "metadata": {},
   "outputs": [],
   "source": [
    "mean_z"
   ]
  },
  {
   "cell_type": "code",
   "execution_count": null,
   "id": "435eab58-25d5-4296-b727-84d57f189bbf",
   "metadata": {},
   "outputs": [],
   "source": [
    "bool_z = mean_z > 0\n",
    "bool_z\n"
   ]
  },
  {
   "cell_type": "code",
   "execution_count": null,
   "id": "d8ecd4cc-0f87-4030-b9d3-eab9489366fc",
   "metadata": {},
   "outputs": [],
   "source": [
    "data[\"mean_z\"] = mean_z\n",
    "data[\"wealthy\"] = bool_z"
   ]
  },
  {
   "cell_type": "code",
   "execution_count": null,
   "id": "2edc71a1-6dc0-41ba-90b4-ed2495c0a0d5",
   "metadata": {},
   "outputs": [],
   "source": [
    "print(data)"
   ]
  },
  {
   "cell_type": "code",
   "execution_count": null,
   "id": "243fa984-4168-4afc-a0db-dfbcc7a62f92",
   "metadata": {},
   "outputs": [],
   "source": [
    "data.head(1)"
   ]
  },
  {
   "cell_type": "code",
   "execution_count": null,
   "id": "4a873d7b-ef7e-4d34-928f-6678558aef12",
   "metadata": {},
   "outputs": [],
   "source": [
    "data.groupby(\"wealthy\").mean()"
   ]
  },
  {
   "cell_type": "code",
   "execution_count": null,
   "id": "56d871dc-3f7e-4756-bb8c-e32a9fa40d1b",
   "metadata": {},
   "outputs": [],
   "source": [
    "import pandas as pd\n",
    "\n",
    "file_list = ['gapminder_gdp_africa.csv', 'gapminder_gdp_asia.csv']\n",
    "for filename in file_list:\n",
    "    data = pd.read_csv(filename, index_col='country')\n",
    "    print(filename)\n",
    "    print(data.head(1))"
   ]
  },
  {
   "cell_type": "code",
   "execution_count": null,
   "id": "26369ddc-372d-42a1-958e-49a5a7cecaa0",
   "metadata": {},
   "outputs": [],
   "source": [
    "import glob\n",
    "glob.glob('*.csv')"
   ]
  },
  {
   "cell_type": "code",
   "execution_count": null,
   "id": "bb2c471b-321c-48ba-bc1d-8509d594dbd8",
   "metadata": {},
   "outputs": [],
   "source": [
    "data_frames = []\n",
    "for filename in glob.glob('gapminder_gdp_*.csv'):\n",
    "    print(filename)\n",
    "    data = pd.read_csv(filename, index_col = \"country\")\n",
    "    data_frames.append(data)\n",
    "\n",
    "all_data = pd.concat(data_frames)\n",
    "print(all_data.shape)\n",
    "print(all_data.index)\n"
   ]
  },
  {
   "cell_type": "code",
   "execution_count": null,
   "id": "1afd8e5a-1386-458f-8216-7c342efdfdee",
   "metadata": {},
   "outputs": [],
   "source": [
    "#conditionals\n",
    "for filename in glob.glob(\"gapminder*.csv\"):\n",
    "    print(\"current file: \", filename)\n",
    "    print(filename.endswith(\"all.csv\"))"
   ]
  },
  {
   "cell_type": "code",
   "execution_count": null,
   "id": "aad9344f-8cc7-453e-b4eb-9bc33cf77743",
   "metadata": {},
   "outputs": [],
   "source": [
    "data = pd.read_csv('gapminder_gdp_europe.csv', index_col='country')\n",
    "subset = data.loc['Italy':'Poland', '1962':'1972']\n",
    "df = subset[subset > 10000]\n",
    "\n",
    "# Which values are missing?\n",
    "print(df.isna())\n",
    "\n",
    "# Are any values missing?\n",
    "print(df.isna().any(axis=None))"
   ]
  },
  {
   "cell_type": "code",
   "execution_count": null,
   "id": "5b293841-f553-44cb-89a8-db8e7076b499",
   "metadata": {},
   "outputs": [],
   "source": [
    "print(mass)"
   ]
  },
  {
   "cell_type": "code",
   "execution_count": null,
   "id": "8bbf42f8-06db-43fd-a876-be6d428fcfc9",
   "metadata": {},
   "outputs": [],
   "source": [
    "mass = 2.0\n",
    "\n",
    "if mass >3.0:\n",
    "    print(mass, \" is large\")"
   ]
  },
  {
   "cell_type": "code",
   "execution_count": null,
   "id": "b29b9bfc-f78b-4ee1-9a1b-4198d1cf0a02",
   "metadata": {},
   "outputs": [],
   "source": [
    "data_frames = []\n",
    "\n",
    "for filenames in glob.glob(\"gapminder*.csv\"):\n",
    "    print(filename)\n",
    "    if not filename.endswith(\"all.csv\"):\n",
    "        data - pd.read_csv(filename, index_col = \"country\")\n",
    "        data_frames.append(data)\n",
    "all_data = pd.concat(data_frames)\n",
    "print(all_data.shape)"
   ]
  },
  {
   "cell_type": "code",
   "execution_count": null,
   "id": "4a797b8b-16fb-4f5d-82de-62b7ceda2b56",
   "metadata": {},
   "outputs": [],
   "source": [
    "mass = 2.0\n",
    "\n",
    "if mass > 3.0:\n",
    "    print(mass, \"is large\")\n",
    "else:\n",
    "    print(mass, \"is small\")"
   ]
  },
  {
   "cell_type": "code",
   "execution_count": null,
   "id": "af6987f7-193c-4976-b06b-cfd2cf077f21",
   "metadata": {},
   "outputs": [],
   "source": [
    "mass = 4.0\n",
    "\n",
    "if mass > 3.0:\n",
    "    print(mass, \"is large\")\n",
    "else:\n",
    "    print(mass, \"is small\")"
   ]
  },
  {
   "cell_type": "code",
   "execution_count": null,
   "id": "e15f2082-1826-4f6c-b132-b6c744606058",
   "metadata": {},
   "outputs": [],
   "source": [
    "data_frames = []\n",
    "for filename in glob.glob('gapminder*.csv'):\n",
    "    if filename.endswith(\"all.csv\"):\n",
    "        print(\"I don't want any of that\")\n",
    "    else:\n",
    "        print(\"Passes test:\", filename)\n",
    "        data = pd.read_csv(filename, index_col = \"country\")\n",
    "        data_frames.append(data)\n",
    "\n",
    "all_data = pd.concat(data_frames)\n",
    "print(all_data.shape)"
   ]
  },
  {
   "cell_type": "code",
   "execution_count": null,
   "id": "c5d9ce72-a342-4c71-9994-75b8cc970d35",
   "metadata": {},
   "outputs": [],
   "source": [
    "for filename in glob.glob('*.csv'):\n",
    "    data = pd.read_csv(filename)\n",
    "    if len(data) < 30:\n",
    "        print(filename, len(data))"
   ]
  },
  {
   "cell_type": "code",
   "execution_count": null,
   "id": "9738ba61-3526-4df6-93a6-d63d6f8a3a2d",
   "metadata": {},
   "outputs": [],
   "source": [
    "for filename in glob.glob('*.csv'):\n",
    "    if \"europe\" in filename.lower():\n",
    "        print(filename)\n",
    "        data = pd.read_csv(filename)\n",
    "        print(data.columns)\n",
    "        "
   ]
  },
  {
   "cell_type": "code",
   "execution_count": null,
   "id": "0d8b7055-51e6-4a34-89b7-55df54c0b884",
   "metadata": {},
   "outputs": [],
   "source": [
    "mass = 3.5\n",
    "if mass > 9.0:\n",
    "    print(mass, \"is huge\")\n",
    "elif mass > 3.0:\n",
    "    print(mass, \"is large\")\n",
    "else:\n",
    "    print(mass, \"is small\")"
   ]
  },
  {
   "cell_type": "code",
   "execution_count": null,
   "id": "f24c0eb9-fe41-495a-aacc-eecaba7b336f",
   "metadata": {},
   "outputs": [],
   "source": [
    "mass = [1,2,3,4,5]\n",
    "velocity= [5,4,3,2,5]\n",
    "for m, v in zip(mass, velocity):\n",
    "    if m <= 3 and v <= 3:\n",
    "        print(\"small and slow\")\n",
    "    elif m <=3 and v >3:\n",
    "        print(\"Small and fast\")\n",
    "    elif m > 3 and v <=3:\n",
    "        print(\"large and slow\")\n",
    "    else:\n",
    "        print(\"check data\")"
   ]
  },
  {
   "cell_type": "code",
   "execution_count": null,
   "id": "5ed26172-2ce1-48df-906e-ad72d19ed328",
   "metadata": {},
   "outputs": [],
   "source": [
    "def print_greeting():\n",
    "    print('Hello!')"
   ]
  },
  {
   "cell_type": "code",
   "execution_count": null,
   "id": "fce70e92-a782-4150-bcc0-ac522ffea252",
   "metadata": {},
   "outputs": [],
   "source": [
    "print_greeting()"
   ]
  },
  {
   "cell_type": "code",
   "execution_count": null,
   "id": "61e1d7e9-f38b-43f4-b281-b512e4fa1a3d",
   "metadata": {},
   "outputs": [],
   "source": [
    "def print_date(year, month, day):\n",
    "    joined = '/'.join([str(year), str(month), str(day)])\n",
    "    print(joined)\n",
    "\n",
    "print_date(1871, 3, 19)"
   ]
  },
  {
   "cell_type": "code",
   "execution_count": null,
   "id": "11b45e6d-96cd-4293-92db-15338d71dc12",
   "metadata": {},
   "outputs": [],
   "source": [
    "def average(values):\n",
    "    \"\"\"Return average of values, or None if no values are supplied.\"\"\"\n",
    "\n",
    "    if len(values) == 0:\n",
    "        return None\n",
    "    else:\n",
    "        return sum(values) / len(values)"
   ]
  },
  {
   "cell_type": "code",
   "execution_count": null,
   "id": "fdf688a5-cdbb-479d-8e5a-c2c5e9e5df52",
   "metadata": {},
   "outputs": [],
   "source": [
    "print(pd.__version__)\n",
    "import panda as pd\n",
    "\n",
    "\n",
    "def norm_data(filename):\n",
    "    \"\"\"Add a Z score column to a data frame.\"\"\"\n",
    "\n",
    "    df = pd.read_csv(filename, index_col = \"country\")\n",
    "\n",
    "    # If you need to drop the continent column\n",
    "    if \"continent\" in df.columns:\n",
    "        df.drop(\"continent\", axis=1)\n",
    "\n",
    "    # Calculate individual Z scores\n",
    "    z = (data - data.mean(axis=None))/data.values.std(ddof=1)\n",
    "\n",
    "    # Get the mean z score for each country\n",
    "    mean_z = z.mean(axis=1)\n",
    "\n",
    "    df[\"mean_z\"] = mean_z\n",
    "\n",
    "    return df\n",
    "\n",
    "df = norm_data(\"data/gapminder_gdp_europe.csv\")"
   ]
  },
  {
   "cell_type": "code",
   "execution_count": null,
   "id": "7ac3b024-e7f2-4462-a712-86747206fb4d",
   "metadata": {},
   "outputs": [],
   "source": [
    "def norm_data(filename, index_col = None):\n",
    "    df = pd.read_csv(filename, index_col = index_col)\n",
    "    z= (data -data.values.mean()) / data.values.std()\n",
    "    mean_z = z.mean(axis=1)\n",
    "    data[\"mean_z\"] = mean_z\n",
    "    return data"
   ]
  },
  {
   "cell_type": "code",
   "execution_count": null,
   "id": "59150f37-1833-4c58-ad1d-dcfa4183cac6",
   "metadata": {},
   "outputs": [],
   "source": [
    "df = norm_data(\"gapminder_gfp_europe.csv\", index_col = \"country\")"
   ]
  },
  {
   "cell_type": "code",
   "execution_count": null,
   "id": "961813fb-5875-4f3f-9a9e-e04689f75fba",
   "metadata": {},
   "outputs": [],
   "source": [
    "import pandas as pd\n",
    "import glob as glob"
   ]
  },
  {
   "cell_type": "code",
   "execution_count": null,
   "id": "cb8c0361-6ab1-4c05-9a3b-08302c747286",
   "metadata": {},
   "outputs": [],
   "source": [
    "for filename in glob.glob('data/gapminder_*.csv'):\n",
    "    # Print a status message\n",
    "    print(\"Current file:\", filename)\n",
    "\n",
    "    # Read the data into a DataFrame and modify it\n",
    "    data = pd.read_csv(filename, index_col = \"country\")\n",
    "    mean_z, z_bool = norm_data(data)\n",
    "\n",
    "    # Append to DataFrame\n",
    "    data[\"mean_z\"] = mean_z\n",
    "    data[\"wealthy\"] = z_bool\n",
    "\n",
    "    # Generate an output file name\n",
    "    parts = filename.split(\".csv\")\n",
    "    newfile = ''.join([parts[0], \"_normed.csv\"])\n",
    "    data.to_csv(newfile)\n",
    "\n",
    "data_frames =[]\n",
    "for filename in glob.glob(\"gapminder*.csv\"):\n",
    "    if not filename.endswith(\"all.csv\"):\n",
    "        df = norm_data(filename, index_col = \"country\")\n",
    "        data_frames.append(df)\n",
    "\n",
    "all_data = pd.concat(data_frames)"
   ]
  },
  {
   "cell_type": "code",
   "execution_count": null,
   "id": "18f5a866-213b-43bd-9127-3b95f1d7902a",
   "metadata": {},
   "outputs": [],
   "source": []
  }
 ],
 "metadata": {
  "kernelspec": {
   "display_name": "Python 3 (ipykernel)",
   "language": "python",
   "name": "python3"
  },
  "language_info": {
   "codemirror_mode": {
    "name": "ipython",
    "version": 3
   },
   "file_extension": ".py",
   "mimetype": "text/x-python",
   "name": "python",
   "nbconvert_exporter": "python",
   "pygments_lexer": "ipython3",
   "version": "3.12.4"
  }
 },
 "nbformat": 4,
 "nbformat_minor": 5
}
